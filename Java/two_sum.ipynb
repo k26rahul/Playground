{
 "cells": [
  {
   "cell_type": "markdown",
   "metadata": {},
   "source": [
    "https://takeuforward.org/data-structure/two-sum-check-if-a-pair-with-given-sum-exists-in-array/"
   ]
  },
  {
   "cell_type": "code",
   "execution_count": 3,
   "metadata": {},
   "outputs": [],
   "source": [
    "numbers = [2, 6, 5, 8, 11]\n",
    "target_sum = 14"
   ]
  },
  {
   "cell_type": "code",
   "execution_count": 28,
   "metadata": {},
   "outputs": [
    {
     "data": {
      "text/plain": [
       "(1, 3)"
      ]
     },
     "execution_count": 28,
     "metadata": {},
     "output_type": "execute_result"
    }
   ],
   "source": [
    "# Brute-force approach\n",
    "def two_sum(numbers, target_sum):\n",
    "  for i in range(len(numbers)):\n",
    "    for j in range(i+1, len(numbers)):\n",
    "      if numbers[i] + numbers[j] == target_sum:\n",
    "        return (i, j)\n",
    "  return (-1, -1)\n",
    "\n",
    "\n",
    "two_sum(numbers, target_sum)"
   ]
  },
  {
   "cell_type": "code",
   "execution_count": 27,
   "metadata": {},
   "outputs": [
    {
     "data": {
      "text/plain": [
       "(3, 1)"
      ]
     },
     "execution_count": 27,
     "metadata": {},
     "output_type": "execute_result"
    }
   ],
   "source": [
    "# using Hashing\n",
    "def two_sum(numbers, target_sum):\n",
    "  hashtable = {}\n",
    "  for i in range(len(numbers)):\n",
    "    first_num = numbers[i]\n",
    "    second_num = target_sum - first_num\n",
    "    if second_num in hashtable:\n",
    "      return (i, hashtable[second_num])\n",
    "    else:\n",
    "      hashtable[first_num] = i\n",
    "\n",
    "  return (-1, -1)\n",
    "\n",
    "\n",
    "two_sum(numbers, target_sum)"
   ]
  },
  {
   "cell_type": "code",
   "execution_count": 26,
   "metadata": {},
   "outputs": [
    {
     "data": {
      "text/plain": [
       "'YES'"
      ]
     },
     "execution_count": 26,
     "metadata": {},
     "output_type": "execute_result"
    }
   ],
   "source": [
    "# using two-pointer\n",
    "def two_sum(numbers, target_sum):\n",
    "  numbers = sorted(numbers)\n",
    "  left = 0\n",
    "  right = len(numbers)-1\n",
    "  while left < right:\n",
    "    this_sum = numbers[left] + numbers[right]\n",
    "    if this_sum == target_sum:\n",
    "      return 'YES'\n",
    "    elif this_sum < target_sum:\n",
    "      left += 1\n",
    "    else:\n",
    "      right -= 1\n",
    "\n",
    "  return 'NO'\n",
    "\n",
    "\n",
    "two_sum(numbers, target_sum)"
   ]
  },
  {
   "cell_type": "code",
   "execution_count": 30,
   "metadata": {},
   "outputs": [
    {
     "data": {
      "text/plain": [
       "(1, 3)"
      ]
     },
     "execution_count": 30,
     "metadata": {},
     "output_type": "execute_result"
    }
   ],
   "source": [
    "# using two-pointer (return indices instead of returning “YES”)\n",
    "def two_sum(numbers, target_sum):\n",
    "  numbers = [(numbers[i], i) for i in range(len(numbers))]\n",
    "  numbers = sorted(numbers)\n",
    "  left = 0\n",
    "  right = len(numbers)-1\n",
    "  while left < right:\n",
    "    this_sum = numbers[left][0] + numbers[right][0]\n",
    "    this_indices = numbers[left][1], numbers[right][1]\n",
    "    if this_sum == target_sum:\n",
    "      return this_indices\n",
    "    elif this_sum < target_sum:\n",
    "      left += 1\n",
    "    else:\n",
    "      right -= 1\n",
    "\n",
    "  return (-1, -1)\n",
    "\n",
    "\n",
    "two_sum(numbers, target_sum)"
   ]
  }
 ],
 "metadata": {
  "kernelspec": {
   "display_name": "Python 3",
   "language": "python",
   "name": "python3"
  },
  "language_info": {
   "codemirror_mode": {
    "name": "ipython",
    "version": 3
   },
   "file_extension": ".py",
   "mimetype": "text/x-python",
   "name": "python",
   "nbconvert_exporter": "python",
   "pygments_lexer": "ipython3",
   "version": "3.12.0"
  }
 },
 "nbformat": 4,
 "nbformat_minor": 2
}
