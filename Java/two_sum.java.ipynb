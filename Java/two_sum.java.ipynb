{
 "cells": [
  {
   "cell_type": "markdown",
   "metadata": {},
   "source": [
    "https://takeuforward.org/data-structure/two-sum-check-if-a-pair-with-given-sum-exists-in-array/\n"
   ]
  },
  {
   "cell_type": "markdown",
   "metadata": {},
   "source": [
    "https://dev.java/playground/"
   ]
  },
  {
   "cell_type": "code",
   "execution_count": 25,
   "metadata": {},
   "outputs": [
    {
     "name": "stdout",
     "output_type": "stream",
     "text": [
      "[1, 3]\n"
     ]
    }
   ],
   "source": [
    "// Brute-force approach\n",
    "import java.util.Arrays;\n",
    "\n",
    "public class TwoSum {\n",
    "    public static int[] twoSum(int[] numbers, int targetSum) {\n",
    "        for (int i = 0; i < numbers.length; i++) {\n",
    "            for (int j = i + 1; j < numbers.length; j++) {\n",
    "                if (numbers[i] + numbers[j] == targetSum) {\n",
    "                    return new int[]{i, j};\n",
    "                }\n",
    "            }\n",
    "        }\n",
    "        return new int[]{-1, -1};\n",
    "    }\n",
    "\n",
    "    public static void main(String[] args) {\n",
    "        int[] numbers = {2, 6, 5, 8, 11};\n",
    "        int targetSum = 14;\n",
    "\n",
    "        int[] result = twoSum(numbers, targetSum);\n",
    "        System.out.println(Arrays.toString(result));\n",
    "    }\n",
    "}\n",
    "\n",
    "TwoSum.main(null);"
   ]
  },
  {
   "cell_type": "code",
   "execution_count": 26,
   "metadata": {},
   "outputs": [
    {
     "name": "stdout",
     "output_type": "stream",
     "text": [
      "[3, 1]\n"
     ]
    }
   ],
   "source": [
    "// using Hashing\n",
    "import java.util.HashMap;\n",
    "import java.util.Arrays;\n",
    "\n",
    "public static int[] twoSum(int[] numbers, int targetSum) {\n",
    "  HashMap<Integer, Integer> hashtable = new HashMap<>();\n",
    "  for (int i = 0; i < numbers.length; i++) {\n",
    "      int firstNum = numbers[i];\n",
    "      int secondNum = targetSum - firstNum;\n",
    "      if (hashtable.containsKey(secondNum)) {\n",
    "          return new int[]{i, hashtable.get(secondNum)};\n",
    "      } else {\n",
    "          hashtable.put(firstNum, i);\n",
    "      }\n",
    "  }\n",
    "  return new int[]{-1, -1};\n",
    "}\n",
    "\n",
    "\n",
    "int[] numbers = {2, 6, 5, 8, 11};\n",
    "int targetSum = 14;\n",
    "int[] result = twoSum(numbers, targetSum);\n",
    "System.out.println(Arrays.toString(result));"
   ]
  },
  {
   "cell_type": "code",
   "execution_count": 27,
   "metadata": {},
   "outputs": [
    {
     "name": "stdout",
     "output_type": "stream",
     "text": [
      "YES\n"
     ]
    }
   ],
   "source": [
    "// using two-pointer\n",
    "import java.util.Arrays;\n",
    "\n",
    "public static String twoSum(int[] numbers, int targetSum) {\n",
    "  Arrays.sort(numbers);\n",
    "  int left = 0;\n",
    "  int right = numbers.length - 1;\n",
    "  while (left < right) {\n",
    "      int thisSum = numbers[left] + numbers[right];\n",
    "      if (thisSum == targetSum) {\n",
    "          return \"YES\";\n",
    "      } else if (thisSum < targetSum) {\n",
    "          left++;\n",
    "      } else {\n",
    "          right--;\n",
    "      }\n",
    "  }\n",
    "  return \"NO\";\n",
    "}\n",
    "\n",
    "int[] numbers = {2, 6, 5, 8, 11};\n",
    "int targetSum = 14;\n",
    "String result = twoSum(numbers, targetSum);\n",
    "System.out.println(result);"
   ]
  },
  {
   "cell_type": "code",
   "execution_count": 2,
   "metadata": {},
   "outputs": [
    {
     "name": "stdout",
     "output_type": "stream",
     "text": [
      "[1, 3]\n"
     ]
    }
   ],
   "source": [
    "// using two-pointer (return indices instead of returning “YES”)\n",
    "import java.util.Arrays;\n",
    "import java.util.Comparator;\n",
    "\n",
    "public class TwoSum {\n",
    "    public static int[] twoSum(int[] numbers, int targetSum) {\n",
    "        int[][] numsWithIndices = new int[numbers.length][2];\n",
    "        for (int i = 0; i < numbers.length; i++) {\n",
    "            numsWithIndices[i][0] = numbers[i];\n",
    "            numsWithIndices[i][1] = i;\n",
    "        }\n",
    "\n",
    "        Arrays.sort(numsWithIndices, Comparator.comparingInt(item -> item[0]));\n",
    "\n",
    "        int left = 0;\n",
    "        int right = numsWithIndices.length - 1;\n",
    "\n",
    "        while (left < right) {\n",
    "            int thisSum = numsWithIndices[left][0] + numsWithIndices[right][0];\n",
    "            if (thisSum == targetSum) {\n",
    "                return new int[]{numsWithIndices[left][1], numsWithIndices[right][1]};\n",
    "            } else if (thisSum < targetSum) {\n",
    "                left++;\n",
    "            } else {\n",
    "                right--;\n",
    "            }\n",
    "        }\n",
    "\n",
    "        return new int[]{-1, -1};\n",
    "    }\n",
    "\n",
    "    public static void main(String[] args) {\n",
    "        int[] numbers = {2, 6, 5, 8, 11};\n",
    "        int targetSum = 14;\n",
    "\n",
    "        int[] result = twoSum(numbers, targetSum);\n",
    "        System.out.println(Arrays.toString(result));\n",
    "    }\n",
    "}\n",
    "\n",
    "TwoSum.main(null);"
   ]
  }
 ],
 "metadata": {
  "kernelspec": {
   "display_name": "Java",
   "language": "java",
   "name": "java"
  },
  "language_info": {
   "codemirror_mode": "java",
   "file_extension": ".jshell",
   "mimetype": "text/x-java-source",
   "name": "java",
   "pygments_lexer": "java",
   "version": "21.0.1+12-LTS-29"
  }
 },
 "nbformat": 4,
 "nbformat_minor": 2
}
