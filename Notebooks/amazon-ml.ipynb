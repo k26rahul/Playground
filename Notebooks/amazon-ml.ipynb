{
 "cells": [
  {
   "cell_type": "code",
   "execution_count": 7,
   "metadata": {},
   "outputs": [
    {
     "data": {
      "text/plain": [
       "1"
      ]
     },
     "execution_count": 7,
     "metadata": {},
     "output_type": "execute_result"
    }
   ],
   "source": [
    "def player_disqualified(N, K, records):\n",
    "  freq = {}\n",
    "  for record in records:\n",
    "    player, ball = record\n",
    "    if player not in freq:\n",
    "      freq[player] = {}\n",
    "    freq[player][ball] = freq[player].get(ball, 0) + 1\n",
    "\n",
    "  disqualified = 0\n",
    "  for player in freq:\n",
    "    for ball in freq[player]:\n",
    "      if freq[player][ball] > K:\n",
    "        disqualified += 1\n",
    "        break\n",
    "  return disqualified\n",
    "\n",
    "\n",
    "N = 6\n",
    "K = 1\n",
    "records = [\n",
    "    [5, 2],\n",
    "    [3, 6],\n",
    "    [5, 4],\n",
    "    [2, 8],\n",
    "    [5, 4],\n",
    "    [5, 4],\n",
    "]\n",
    "player_disqualified(N, K, records)"
   ]
  },
  {
   "cell_type": "code",
   "execution_count": 9,
   "metadata": {},
   "outputs": [
    {
     "data": {
      "text/plain": [
       "1"
      ]
     },
     "execution_count": 9,
     "metadata": {},
     "output_type": "execute_result"
    }
   ],
   "source": [
    "def player_disqualified(input1, input2, input3):\n",
    "  freq = {}\n",
    "  for record in input3:\n",
    "    player, ball = record\n",
    "    if player not in freq:\n",
    "      freq[player] = {}\n",
    "    freq[player][ball] = freq[player].get(ball, 0) + 1\n",
    "\n",
    "  disqualified = 0\n",
    "  for player in freq:\n",
    "    for ball in freq[player]:\n",
    "      if freq[player][ball] > input2:\n",
    "        disqualified += 1\n",
    "        break\n",
    "  return disqualified\n",
    "\n",
    "\n",
    "input1 = 6\n",
    "input2 = 1\n",
    "input3 = [\n",
    "    [5, 2],\n",
    "    [3, 6],\n",
    "    [5, 4],\n",
    "    [2, 8],\n",
    "    [5, 4],\n",
    "    [5, 4],\n",
    "]\n",
    "player_disqualified(input1, input2, input3)"
   ]
  }
 ],
 "metadata": {
  "kernelspec": {
   "display_name": "Python 3",
   "language": "python",
   "name": "python3"
  },
  "language_info": {
   "codemirror_mode": {
    "name": "ipython",
    "version": 3
   },
   "file_extension": ".py",
   "mimetype": "text/x-python",
   "name": "python",
   "nbconvert_exporter": "python",
   "pygments_lexer": "ipython3",
   "version": "3.12.0"
  }
 },
 "nbformat": 4,
 "nbformat_minor": 2
}
