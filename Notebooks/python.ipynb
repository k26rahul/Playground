{
 "cells": [
  {
   "cell_type": "code",
   "execution_count": 1,
   "metadata": {},
   "outputs": [
    {
     "name": "stdout",
     "output_type": "stream",
     "text": [
      "110\n"
     ]
    }
   ],
   "source": [
    "x = 10\n",
    "y = 100\n",
    "print(x+y)"
   ]
  },
  {
   "cell_type": "code",
   "execution_count": 2,
   "metadata": {},
   "outputs": [
    {
     "data": {
      "text/plain": [
       "150"
      ]
     },
     "execution_count": 2,
     "metadata": {},
     "output_type": "execute_result"
    }
   ],
   "source": [
    "x = 50\n",
    "y = 100\n",
    "x+y"
   ]
  },
  {
   "cell_type": "code",
   "execution_count": 3,
   "metadata": {},
   "outputs": [
    {
     "data": {
      "text/plain": [
       "int"
      ]
     },
     "execution_count": 3,
     "metadata": {},
     "output_type": "execute_result"
    },
    {
     "data": {
      "text/plain": [
       "str"
      ]
     },
     "execution_count": 3,
     "metadata": {},
     "output_type": "execute_result"
    },
    {
     "data": {
      "text/plain": [
       "list"
      ]
     },
     "execution_count": 3,
     "metadata": {},
     "output_type": "execute_result"
    },
    {
     "data": {
      "text/plain": [
       "set"
      ]
     },
     "execution_count": 3,
     "metadata": {},
     "output_type": "execute_result"
    }
   ],
   "source": [
    "type(1)\n",
    "type('abc')\n",
    "type([5, 6, 7])\n",
    "type(set([1, 1, 2]))"
   ]
  },
  {
   "cell_type": "code",
   "execution_count": 4,
   "metadata": {},
   "outputs": [
    {
     "data": {
      "text/plain": [
       "['apple', 'is', 'the', 'best', 'fruit']"
      ]
     },
     "execution_count": 4,
     "metadata": {},
     "output_type": "execute_result"
    },
    {
     "data": {
      "text/plain": [
       "str"
      ]
     },
     "execution_count": 4,
     "metadata": {},
     "output_type": "execute_result"
    }
   ],
   "source": [
    "sentence = 'apple is the best fruit'\n",
    "\n",
    "word_list = sentence.split()\n",
    "\n",
    "word_list\n",
    "type(word_list[1])"
   ]
  },
  {
   "cell_type": "code",
   "execution_count": 5,
   "metadata": {},
   "outputs": [
    {
     "data": {
      "text/plain": [
       "['apple', 'orange', 'banana']"
      ]
     },
     "execution_count": 5,
     "metadata": {},
     "output_type": "execute_result"
    }
   ],
   "source": [
    "data = 'apple---orange---banana'\n",
    "\n",
    "data.split('---')  # use appropriate separator"
   ]
  },
  {
   "cell_type": "code",
   "execution_count": 6,
   "metadata": {},
   "outputs": [
    {
     "data": {
      "text/plain": [
       "'rahulmuskan'"
      ]
     },
     "execution_count": 6,
     "metadata": {},
     "output_type": "execute_result"
    },
    {
     "data": {
      "text/plain": [
       "'abcqwe'"
      ]
     },
     "execution_count": 6,
     "metadata": {},
     "output_type": "execute_result"
    },
    {
     "data": {
      "text/plain": [
       "22"
      ]
     },
     "execution_count": 6,
     "metadata": {},
     "output_type": "execute_result"
    }
   ],
   "source": [
    "'rahul' + 'muskan'\n",
    "\n",
    "'abc' + 'qwe'\n",
    "\n",
    "12 + 10"
   ]
  },
  {
   "cell_type": "code",
   "execution_count": 7,
   "metadata": {},
   "outputs": [],
   "source": [
    "# 10 + int('abc')"
   ]
  },
  {
   "cell_type": "code",
   "execution_count": 8,
   "metadata": {},
   "outputs": [
    {
     "data": {
      "text/plain": [
       "22"
      ]
     },
     "execution_count": 8,
     "metadata": {},
     "output_type": "execute_result"
    }
   ],
   "source": [
    "10 + int('12')"
   ]
  },
  {
   "cell_type": "code",
   "execution_count": 9,
   "metadata": {},
   "outputs": [
    {
     "data": {
      "text/plain": [
       "int"
      ]
     },
     "execution_count": 9,
     "metadata": {},
     "output_type": "execute_result"
    },
    {
     "data": {
      "text/plain": [
       "str"
      ]
     },
     "execution_count": 9,
     "metadata": {},
     "output_type": "execute_result"
    }
   ],
   "source": [
    "type(12)\n",
    "type('12')"
   ]
  },
  {
   "cell_type": "code",
   "execution_count": 10,
   "metadata": {},
   "outputs": [
    {
     "data": {
      "text/plain": [
       "int"
      ]
     },
     "execution_count": 10,
     "metadata": {},
     "output_type": "execute_result"
    }
   ],
   "source": [
    "num = int('12')\n",
    "type(num)"
   ]
  },
  {
   "cell_type": "code",
   "execution_count": 11,
   "metadata": {},
   "outputs": [
    {
     "data": {
      "text/plain": [
       "int"
      ]
     },
     "execution_count": 11,
     "metadata": {},
     "output_type": "execute_result"
    },
    {
     "data": {
      "text/plain": [
       "int"
      ]
     },
     "execution_count": 11,
     "metadata": {},
     "output_type": "execute_result"
    },
    {
     "name": "stdout",
     "output_type": "stream",
     "text": [
      "my age is 20, my weight is 65, next year ill be 21 years old\n"
     ]
    }
   ],
   "source": [
    "data = '20 65'\n",
    "\n",
    "data_list = data.split()\n",
    "\n",
    "age = int(data_list[0])\n",
    "weight = int(data_list[1])\n",
    "\n",
    "type(age)\n",
    "type(weight)\n",
    "\n",
    "print(f'my age is {age}, my weight is {weight}, next year ill be {age+1} years old')"
   ]
  },
  {
   "cell_type": "code",
   "execution_count": 12,
   "metadata": {},
   "outputs": [
    {
     "name": "stdout",
     "output_type": "stream",
     "text": [
      "['2', '5', '12', '16']\n"
     ]
    }
   ],
   "source": [
    "# num_list = [2, 5, 12, 16]\n",
    "num_list = ['2', '5', '12', '16']\n",
    "\n",
    "print(num_list)\n",
    "\n",
    "# num1 = int(num_list[0])\n",
    "# num2 = int(num_list[1])\n",
    "# num3 = int(num_list[2])\n",
    "# num4 = int(num_list[3])\n",
    "\n",
    "# num_list = [num1, num2, num3, num4]\n",
    "\n",
    "# for num in num_list:\n",
    "#   print(num ** 2)"
   ]
  },
  {
   "cell_type": "code",
   "execution_count": 13,
   "metadata": {},
   "outputs": [
    {
     "name": "stdout",
     "output_type": "stream",
     "text": [
      "[2, 5, 12, 16]\n",
      "4\n",
      "25\n",
      "144\n",
      "256\n"
     ]
    }
   ],
   "source": [
    "num_list = ['2', '5', '12', '16']\n",
    "num_list = list(map(int, num_list))\n",
    "\n",
    "print(num_list)\n",
    "\n",
    "for num in num_list:\n",
    "  print(num ** 2)"
   ]
  },
  {
   "cell_type": "code",
   "execution_count": 14,
   "metadata": {},
   "outputs": [
    {
     "name": "stdout",
     "output_type": "stream",
     "text": [
      "my age is 20, my weight is 65, next year ill be 21 years old\n"
     ]
    }
   ],
   "source": [
    "data = '20 65'\n",
    "\n",
    "age, weight = list(map(int, data.split()))\n",
    "\n",
    "print(f'my age is {age}, my weight is {weight}, next year ill be {age+1} years old')"
   ]
  },
  {
   "cell_type": "code",
   "execution_count": 15,
   "metadata": {},
   "outputs": [
    {
     "name": "stdout",
     "output_type": "stream",
     "text": [
      "l\n",
      "h\n",
      "hel\n",
      "hlopho\n",
      "ton\n",
      "nothyp olleh\n",
      "t2\n",
      "24\n"
     ]
    }
   ],
   "source": [
    "# Sample inputs (# note: The values given in the prefix code(grey) will be changed by the autograder according to the testcase while running them.\n",
    "\n",
    "s = \"hello pyhton\"\n",
    "course_code = \"24t2cs1002\"  # 24 - year, t2 - term 2, cs1002 - course id\n",
    "# <eoi>\n",
    "\n",
    "output1 = s[2]  # str: get the third character of s\n",
    "\n",
    "output2 = s[-4]  # str: get the fourth last character of s\n",
    "\n",
    "output3 = s[:3]  # str: get the first 3 characters of s\n",
    "\n",
    "output4 = s[::2]  # str: get every second character of s\n",
    "\n",
    "output5 = s[-3:]  # str: get the last 3 characters of s\n",
    "\n",
    "output6 = s[::-1]  # str: get the reverse of s\n",
    "\n",
    "course_term = course_code[2:4]  # int: get the term of the year as number from course_code\n",
    "course_year = course_code[:2]  # int: get the year as two digit number from course_code\n",
    "\n",
    "print(output1)\n",
    "print(output2)\n",
    "print(output3)\n",
    "print(output4)\n",
    "print(output5)\n",
    "print(output6)\n",
    "print(course_term)\n",
    "print(course_year)"
   ]
  }
 ],
 "metadata": {
  "kernelspec": {
   "display_name": "Python 3",
   "language": "python",
   "name": "python3"
  },
  "language_info": {
   "codemirror_mode": {
    "name": "ipython",
    "version": 3
   },
   "file_extension": ".py",
   "mimetype": "text/x-python",
   "name": "python",
   "nbconvert_exporter": "python",
   "pygments_lexer": "ipython3",
   "version": "3.12.6"
  }
 },
 "nbformat": 4,
 "nbformat_minor": 2
}
