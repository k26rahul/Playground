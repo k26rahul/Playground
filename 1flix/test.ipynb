{
 "cells": [
  {
   "cell_type": "markdown",
   "metadata": {},
   "source": [
    "Rebel Moon - Part Two: The Scargiver\n",
    "108208\n",
    "\n",
    "Dune: Part Two\n",
    "106510\n",
    "\n",
    "Avengers: Age of Ultron\n",
    "19729\n",
    "\n",
    "1. AOT -> 1302 pages name+watch_id, watch_id:embed_link\n",
    "2. JIT -> watch_id:embed_link [19729]"
   ]
  },
  {
   "cell_type": "code",
   "execution_count": 1,
   "metadata": {},
   "outputs": [
    {
     "name": "stdout",
     "output_type": "stream",
     "text": [
      "{\"type\":\"iframe\",\"link\":\"https://megacloud.tv/embed-1/e-1/jAxplO72yU0V?z=\"}\n"
     ]
    }
   ],
   "source": [
    "import requests\n",
    "\n",
    "url = \"https://1flix.to/ajax/episode/sources/2508777\"\n",
    "\n",
    "headers = {}\n",
    "\n",
    "response = requests.get(url, headers=headers)\n",
    "\n",
    "print(response.text)  # or do something with the response"
   ]
  },
  {
   "cell_type": "code",
   "execution_count": 9,
   "metadata": {},
   "outputs": [
    {
     "name": "stdout",
     "output_type": "stream",
     "text": [
      "<!DOCTYPE html>\n",
      "<html lang=\"en\">\n",
      "<head>\n",
      "    <title>File #jAxplO72yU0V - Megacloud</title>\n",
      "<meta http-equiv=\"Content-Type\" content=\"text/html; charset=UTF-8\"/>\n",
      "<meta name=\"robots\" content=\"noindex,nofollow\"/>\n",
      "<meta http-equiv=\"content-language\" content=\"en\"/>\n",
      "<meta name=\"viewport\" content=\"width=device-width, initial-scale=1\"/>\n",
      "<link rel=\"shortcut icon\" href=\"/images/favicon.png\" type=\"image/x-icon\"/>\n",
      "<link rel=\"stylesheet\" type=\"text/css\" href=\"/css/embed.css?v=0.4\"/>\n",
      "<script async src=\"https://www.googletagmanager.com/gtag/js?id=UA-118288579-1\"></script>\n",
      "<script>\n",
      "    window.dataLayer = window.dataLayer || [];\n",
      "\n",
      "    function gtag() {\n",
      "        dataLayer.push(arguments);\n",
      "    }\n",
      "\n",
      "    gtag('js', new Date());\n",
      "    gtag('config', 'UA-118288579-1');\n",
      "</script>\n",
      "    <script>\n",
      "      const settings = {\"time\":0,\"autoPlay\":0};\n",
      "    </script>\n",
      "</head>\n",
      "<body>\n",
      "<div class=\"mg-3mb3d\">\n",
      "    <div class=\"mg3-player\">\n",
      "        <div class=\"fix-area\" id=\"megacloud-player\" data-id=\"jAxplO72yU0V\" data-realid=\"935327\">\n",
      "            <div class=\"content-center\">\n",
      "                <div class=\"loading-content\" id=\"loading\">\n",
      "                    <div class=\"load-circle\">\n",
      "                        <div></div>\n",
      "                        <div></div>\n",
      "                    </div>\n",
      "                </div>\n",
      "            </div>\n",
      "        </div>\n",
      "        <div class=\"error-content\" style=\"display: none;\">\n",
      "            <div class=\"text\">Brave browser does not support our player. Please try with other browsers such as\n",
      "                Chrome or Firefox.\n",
      "            </div>\n",
      "        </div>\n",
      "    </div>\n",
      "</div>\n",
      "<script type=\"text/javascript\" src=\"/js/player/m/e1-player-v2.min.js?v=0.0.3\"></script>\n",
      "</body>\n",
      "</html>\n"
     ]
    }
   ],
   "source": [
    "import requests\n",
    "\n",
    "url = \"https://megacloud.tv/embed-1/e-1/jAxplO72yU0V?z=\"\n",
    "\n",
    "headers = {\n",
    "    \"Referer\": \"https://1flix.to/\",\n",
    "}\n",
    "\n",
    "response = requests.get(url, headers=headers)\n",
    "\n",
    "print(response.text)  # or do something with the response"
   ]
  }
 ],
 "metadata": {
  "kernelspec": {
   "display_name": "Python 3",
   "language": "python",
   "name": "python3"
  },
  "language_info": {
   "codemirror_mode": {
    "name": "ipython",
    "version": 3
   },
   "file_extension": ".py",
   "mimetype": "text/x-python",
   "name": "python",
   "nbconvert_exporter": "python",
   "pygments_lexer": "ipython3",
   "version": "3.12.0"
  }
 },
 "nbformat": 4,
 "nbformat_minor": 2
}
